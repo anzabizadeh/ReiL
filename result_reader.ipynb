{
 "cells": [
  {
   "cell_type": "code",
   "execution_count": 1,
   "metadata": {},
   "outputs": [],
   "source": [
    "import os\n",
    "import csv\n",
    "import glob\n",
    "import numpy as np\n",
    "import pandas as pd\n",
    "import matplotlib.pyplot as plt\n",
    "\n",
    "from ipywidgets import interact, interactive, fixed, interact_manual\n",
    "import ipywidgets as widgets\n",
    "\n",
    "plt.rcParams['figure.figsize'] = [10, 5]\n",
    "\n",
    "%matplotlib notebook"
   ]
  },
  {
   "cell_type": "code",
   "execution_count": 2,
   "metadata": {},
   "outputs": [],
   "source": [
    "path = 'z:\\warfarin'"
   ]
  },
  {
   "cell_type": "code",
   "execution_count": 3,
   "metadata": {},
   "outputs": [
    {
     "data": {
      "application/vnd.jupyter.widget-view+json": {
       "model_id": "22ddf38819e346d0accc74fd3a28e4a1",
       "version_major": 2,
       "version_minor": 0
      },
      "text/plain": [
       "interactive(children=(Dropdown(description='penalty_func', options=('stdev', 'change_count'), value='stdev'), …"
      ]
     },
     "metadata": {},
     "output_type": "display_data"
    }
   ],
   "source": [
    "global df, filename\n",
    "\n",
    "df = None\n",
    "filename = ''\n",
    "\n",
    "@interact(penalty_func=['stdev', 'change_count'],\n",
    "          penalty_coef=[0.25, 0.50, 0.75, 1, 2, 5, 10],\n",
    "          model=['training', 'test', 'both'],\n",
    "          stat=['TTR', 'dose_change', 'delta_dose'],\n",
    "          normal=True,\n",
    "          sensitive=False,\n",
    "          highly_sensitive=False)\n",
    "def plot_file(penalty_func, penalty_coef, model, stat, normal, sensitive, highly_sensitive):\n",
    "    global df, filename\n",
    "    \n",
    "    plt.close()\n",
    "\n",
    "    filename_temp = f'W90dayd_10INR_10Td_chg_coef_{penalty_coef:2.2f}func{penalty_func}ph1_90ph1chg_15mxd1_15ph2d_1ph2chg_15DQNbwd(32,32,32)g0.95efnbff900clrFbtch50vld0.3.txt'\n",
    "\n",
    "    chosen_model = {'training': [\"('protocol', 'training')\"],\n",
    "                   'test': [\"('protocol', 'test')\"],\n",
    "                   'both': [\"('protocol', 'training')\", \"('protocol', 'test')\"]}[model]\n",
    "    sensitivity = (['normal'] if normal else []) + (['sensitive'] if sensitive else []) + (['highly sensitive'] if highly_sensitive else [])\n",
    "    \n",
    "    if df is None or filename != filename_temp:\n",
    "        filename = filename_temp\n",
    "        df = pd.read_csv(os.path.join(path, filename), delimiter='\\t', names=['run', 'model', 'stat', 'sensitivity', 'value'])\n",
    "\n",
    "    table = pd.pivot_table(df[df.stat == stat], values='value', index=['run'],\n",
    "                           columns=['model', 'sensitivity'], aggfunc=np.mean)\n",
    "    data = table[[(m, s) for m in chosen_model for s in sensitivity if (m, s) != (\"('protocol', 'test')\", 'highly sensitive')]]\n",
    "    plt.figure(figsize = (16, 6))\n",
    "    plt.plot(data)\n",
    "    plt.legend(data.columns)"
   ]
  },
  {
   "cell_type": "code",
   "execution_count": 4,
   "metadata": {},
   "outputs": [],
   "source": [
    "file_indices = {}\n",
    "for name in glob.iglob(os.path.join(path, 'W90dayd_10INR_10Td_chg_coef_*func*ph1_90ph1chg_15mxd1_15ph2d_1ph2chg_15DQNbwd(32,32,32)g0.95efnbff900clrFbtch50vld0.3*.csv')):\n",
    "    try:\n",
    "        fname = name[name.rfind('\\\\')+1:-8]\n",
    "        file_indices[fname] = max(file_indices[fname], int(name[-8:-4]))\n",
    "    except KeyError:\n",
    "        file_indices[fname] = int(name[-8:-4])"
   ]
  },
  {
   "cell_type": "code",
   "execution_count": 5,
   "metadata": {},
   "outputs": [
    {
     "data": {
      "application/vnd.jupyter.widget-view+json": {
       "model_id": "8a90fcb81668484ca17ef4e7d0320ba7",
       "version_major": 2,
       "version_minor": 0
      },
      "text/plain": [
       "interactive(children=(Dropdown(description='penalty_func', options=('stdev', 'change_count'), value='stdev'), …"
      ]
     },
     "metadata": {},
     "output_type": "display_data"
    }
   ],
   "source": [
    "global df_sp, filename_sp\n",
    "\n",
    "df_sp = None\n",
    "filename_sp = ''\n",
    "\n",
    "@interact(penalty_func=['stdev', 'change_count'],\n",
    "          penalty_coef=[0.25, 0.50, 0.75, 1, 2, 5, 10],\n",
    "          model=['training', 'test'])\n",
    "def sample_path(penalty_func, penalty_coef, model):\n",
    "    global df_sp, filename_sp\n",
    "\n",
    "    plt.close()\n",
    "\n",
    "    name = f'W90dayd_10INR_10Td_chg_coef_{penalty_coef:2.2f}func{penalty_func}ph1_90ph1chg_15mxd1_15ph2d_1ph2chg_15DQNbwd(32,32,32)g0.95efnbff900clrFbtch50vld0.3'\n",
    "    num = f'{file_indices[name]:04}'\n",
    "\n",
    "    filename_temp = name + num + '.csv'\n",
    "\n",
    "    if df_sp is None or filename_sp != filename_temp:\n",
    "        filename_sp = filename_temp\n",
    "        df_sp = pd.read_csv(os.path.join(path, filename_sp), index_col=0)\n",
    "\n",
    "    df_sp_slice = df_sp[df_sp['agent/subject'] == f\"('protocol', \\'{model}\\')\"]\n",
    "    patient = list(df_sp_slice[['age', 'CYP2C9', 'VKORC1']].iloc[0])\n",
    "    data = df_sp_slice[df_sp_slice.instance_id == df_sp_slice.instance_id.max()][['action', 'reward', 'INR']]\n",
    "\n",
    "    fig, axs = plt.subplots(3, figsize = (16, 6))\n",
    "    fig.suptitle(str(patient))\n",
    "    axs[0].bar(data.index, data['action'])\n",
    "    axs[0].set_title('action')\n",
    "    axs[1].plot(data['INR'])\n",
    "    axs[1].plot(list(data.index), [2]*len(data.index), list(data.index), [3]*len(data.index))\n",
    "    axs[1].set_title('INR')\n",
    "    axs[2].plot(data['reward'])\n",
    "    axs[2].set_title('penalty')"
   ]
  },
  {
   "cell_type": "code",
   "execution_count": null,
   "metadata": {},
   "outputs": [],
   "source": []
  }
 ],
 "metadata": {
  "kernelspec": {
   "display_name": "Python 3",
   "language": "python",
   "name": "python3"
  },
  "language_info": {
   "codemirror_mode": {
    "name": "ipython",
    "version": 3
   },
   "file_extension": ".py",
   "mimetype": "text/x-python",
   "name": "python",
   "nbconvert_exporter": "python",
   "pygments_lexer": "ipython3",
   "version": "3.6.8"
  }
 },
 "nbformat": 4,
 "nbformat_minor": 2
}
