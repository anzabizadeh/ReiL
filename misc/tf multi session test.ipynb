{
 "cells": [
  {
   "cell_type": "code",
   "execution_count": 1,
   "metadata": {},
   "outputs": [],
   "source": [
    "import tensorflow as tf\n",
    "from tensorflow import keras\n",
    "import numpy as np"
   ]
  },
  {
   "cell_type": "code",
   "execution_count": 48,
   "metadata": {},
   "outputs": [],
   "source": [
    "class network:\n",
    "    def __init__(self, **kwargs):\n",
    "        if 'filename' in kwargs:\n",
    "            self.load(kwargs['filename'])\n",
    "        else:\n",
    "            self._graph = tf.Graph()\n",
    "            with self._graph.as_default():\n",
    "                self._session = tf.Session()\n",
    "                self._model = keras.models.Sequential()\n",
    "                self._model.add(keras.layers.Dense(10, activation='relu', name='layer_01', input_shape=(5,)))\n",
    "                self._model.add(keras.layers.Dense(1, name='output'))\n",
    "                self._model.compile(optimizer='adam', loss='mae')\n",
    "            \n",
    "    def predict(self, X):\n",
    "        with self._session.as_default():\n",
    "            with self._graph.as_default():\n",
    "                print(keras.backend.get_session())\n",
    "                return self._model.predict(X)\n",
    "            \n",
    "    def save(self, filename):\n",
    "        with self._session.as_default():\n",
    "            with self._graph.as_default():\n",
    "                self._model.save(filename)\n",
    "\n",
    "    def load(self, filename):\n",
    "        print(1, keras.backend.get_session())\n",
    "        self._graph = tf.Graph()\n",
    "        print(2, keras.backend.get_session())\n",
    "        self._session = tf.Session(graph=self._graph)\n",
    "        print(3, keras.backend.get_session())\n",
    "        with self._graph.as_default():\n",
    "            self._session = keras.backend.get_session()\n",
    "            print(4, keras.backend.get_session(), self._session, keras.backend.get_session()==self._session)\n",
    "            self._model = keras.models.load_model(filename)\n",
    "            print(5, keras.backend.get_session(), self._session, keras.backend.get_session()==self._session)"
   ]
  },
  {
   "cell_type": "code",
   "execution_count": 50,
   "metadata": {},
   "outputs": [
    {
     "name": "stdout",
     "output_type": "stream",
     "text": [
      "<tensorflow.python.client.session.Session object at 0x000002B90E1E4978>\n",
      "[[-1.029563]]\n",
      "<tensorflow.python.client.session.Session object at 0x000002B90DF1F1D0>\n",
      "[[0.30313855]]\n",
      "<tensorflow.python.client.session.Session object at 0x000002B90E1E4978>\n",
      "[[-1.029563]]\n",
      "<tensorflow.python.client.session.Session object at 0x000002B90DF1F1D0>\n",
      "[[0.30313855]]\n",
      "1 <tensorflow.python.client.session.Session object at 0x000002B90E510C88>\n",
      "2 <tensorflow.python.client.session.Session object at 0x000002B90E510C88>\n",
      "3 <tensorflow.python.client.session.Session object at 0x000002B90E510C88>\n",
      "4 <tensorflow.python.client.session.Session object at 0x000002B90E700CC0> <tensorflow.python.client.session.Session object at 0x000002B90E700CC0> True\n",
      "5 <tensorflow.python.client.session.Session object at 0x000002B90E700CC0> <tensorflow.python.client.session.Session object at 0x000002B90E700CC0> True\n",
      "1 <tensorflow.python.client.session.Session object at 0x000002B90E02A358>\n",
      "2 <tensorflow.python.client.session.Session object at 0x000002B90E02A358>\n",
      "3 <tensorflow.python.client.session.Session object at 0x000002B90E02A358>\n",
      "4 <tensorflow.python.client.session.Session object at 0x000002B90E6D83C8> <tensorflow.python.client.session.Session object at 0x000002B90E6D83C8> True\n",
      "5 <tensorflow.python.client.session.Session object at 0x000002B90E6D83C8> <tensorflow.python.client.session.Session object at 0x000002B90E6D83C8> True\n",
      "<tensorflow.python.client.session.Session object at 0x000002B90E700CC0>\n",
      "[[0.30313855]]\n",
      "<tensorflow.python.client.session.Session object at 0x000002B90E6D83C8>\n",
      "[[0.30313855]]\n"
     ]
    }
   ],
   "source": [
    "net_count = 2\n",
    "nets = []\n",
    "for i in range(net_count):\n",
    "    nets.append(network())\n",
    "    print(nets[i].predict(np.ones((1, 5))))\n",
    "\n",
    "for i in range(net_count):\n",
    "    print(nets[i].predict(np.ones((1, 5))))\n",
    "\n",
    "for i in range(net_count):\n",
    "    nets[i].save('test{i}')\n",
    "\n",
    "nets = []\n",
    "for i in range(net_count):\n",
    "    nets.append(network(filename='test{i}'))\n",
    "\n",
    "for i in range(net_count):\n",
    "    print(nets[i].predict(np.ones((1, 5))))\n"
   ]
  },
  {
   "cell_type": "code",
   "execution_count": 12,
   "metadata": {},
   "outputs": [
    {
     "name": "stdout",
     "output_type": "stream",
     "text": [
      "[[-0.07748362]]\n",
      "[[-0.29300526]]\n",
      "[[0.65194273]]\n",
      "[[-0.84358275]]\n",
      "[[1.2830682]]\n",
      "[[-0.07748362]]\n",
      "[[-0.29300526]]\n",
      "[[0.65194273]]\n",
      "[[-0.84358275]]\n",
      "[[1.2830682]]\n",
      "[[-0.07748362]]\n",
      "[[-0.29300526]]\n",
      "[[0.65194273]]\n",
      "[[-0.84358275]]\n",
      "[[1.2830682]]\n",
      "[[-0.07748362]]\n",
      "[[-0.29300526]]\n",
      "[[0.65194273]]\n",
      "[[-0.84358275]]\n",
      "[[1.2830682]]\n",
      "[[-0.07748362]]\n",
      "[[-0.29300526]]\n",
      "[[0.65194273]]\n",
      "[[-0.84358275]]\n",
      "[[1.2830682]]\n"
     ]
    }
   ],
   "source": [
    "for _ in range(5):\n",
    "    for i in range(5):\n",
    "        print(nets[i].predict(np.ones((1, 5))))"
   ]
  },
  {
   "cell_type": "code",
   "execution_count": 35,
   "metadata": {},
   "outputs": [],
   "source": [
    "def change_session():\n",
    "    print(keras.backend.get_session())\n",
    "    sess = tf.Session()\n",
    "    print(sess)\n",
    "    return sess"
   ]
  },
  {
   "cell_type": "code",
   "execution_count": null,
   "metadata": {},
   "outputs": [],
   "source": [
    "filename = 'test'\n",
    "\n",
    "graph = tf.Graph()\n",
    "with graph.as_default():\n",
    "    session = change_session()\n",
    "    model = keras.models.Sequential()\n",
    "    model.add(keras.layers.Dense(10, activation='relu', name='layer_01', input_shape=(5,)))\n",
    "    model.add(keras.layers.Dense(1, name='output'))\n",
    "    model.compile(optimizer='adam', loss='mae')\n",
    "            \n",
    "with session.as_default():\n",
    "    with graph.as_default():\n",
    "        print(keras.backend.get_session())\n",
    "        print(model.predict(X))\n",
    "            \n",
    "with session.as_default():\n",
    "    with graph.as_default():\n",
    "        model.save(filename)\n",
    "\n",
    "print(1, keras.backend.get_session())\n",
    "graph = tf.Graph()\n",
    "session = tf.Session(graph=graph)\n",
    "with graph.as_default():\n",
    "    print(2, keras.backend.get_session())\n",
    "    model = keras.models.load_model(filename)\n",
    "    print(3, keras.backend.get_session())"
   ]
  }
 ],
 "metadata": {
  "kernelspec": {
   "display_name": "Python 3",
   "language": "python",
   "name": "python3"
  },
  "language_info": {
   "codemirror_mode": {
    "name": "ipython",
    "version": 3
   },
   "file_extension": ".py",
   "mimetype": "text/x-python",
   "name": "python",
   "nbconvert_exporter": "python",
   "pygments_lexer": "ipython3",
   "version": "3.6.8"
  }
 },
 "nbformat": 4,
 "nbformat_minor": 2
}
