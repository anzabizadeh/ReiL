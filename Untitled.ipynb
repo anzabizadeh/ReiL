{
 "cells": [
  {
   "cell_type": "code",
   "execution_count": 171,
   "metadata": {},
   "outputs": [],
   "source": [
    "import os\n",
    "import csv\n",
    "import glob\n",
    "from tqdm import tqdm_notebook\n",
    "import numpy as np\n",
    "import pandas as pd\n",
    "import matplotlib.pyplot as plt\n",
    "\n",
    "from ipywidgets import interact, interactive, fixed, interact_manual\n",
    "import ipywidgets as widgets\n",
    "\n",
    "plt.rcParams['figure.figsize'] = [10, 5]\n",
    "\n",
    "%matplotlib notebook"
   ]
  },
  {
   "cell_type": "code",
   "execution_count": 5,
   "metadata": {},
   "outputs": [],
   "source": [
    "path = 'C:\\\\Users\\\\Sadjad\\\\OneDrive - University of Iowa\\\\2. Current Research\\\\Reinforcement-Learning'\n",
    "filename_syntax = 'fixed_interval_01*.csv'"
   ]
  },
  {
   "cell_type": "code",
   "execution_count": 20,
   "metadata": {},
   "outputs": [
    {
     "data": {
      "text/plain": [
       "'C:\\\\Users\\\\Sadjad\\\\OneDrive - University of Iowa\\\\2. Current Research\\\\Reinforcement-Learning\\\\fixed_interval_010002.csv'"
      ]
     },
     "execution_count": 20,
     "metadata": {},
     "output_type": "execute_result"
    }
   ],
   "source": [
    "next(list_of_files)"
   ]
  },
  {
   "cell_type": "code",
   "execution_count": 52,
   "metadata": {},
   "outputs": [
    {
     "data": {
      "text/plain": [
       "[1, 4, 7, 14, 21, 28, 35, 42, 49, 56, 63, 70, 77, 84, 91]"
      ]
     },
     "execution_count": 52,
     "metadata": {},
     "output_type": "execute_result"
    }
   ],
   "source": [
    "[1, 4] + [7 * (i+1) for i in range(12)]"
   ]
  },
  {
   "cell_type": "code",
   "execution_count": 173,
   "metadata": {},
   "outputs": [],
   "source": [
    "def sensitivity(row):\n",
    "    combo = row['CYP2C9'] + row['VKORC1']\n",
    "    return (int(combo in ('*1/*1G/G', '*1/*2G/G', '*1/*1G/A')) * 1 +\n",
    "            int(combo in ('*1/*2G/A', '*1/*3G/A', '*2/*2G/A',\n",
    "                          '*2/*3G/G', '*1/*3G/G', '*2/*2G/G',\n",
    "                          '*1/*2A/A', '*1/*1A/A')) * 2 +\n",
    "            int(combo in ('*3/*3G/G',\n",
    "                          '*3/*3G/A', '*2/*3G/A',\n",
    "                          '*3/*3A/A', '*2/*3A/A', '*2/*2A/A', '*1/*3A/A')) * 4)"
   ]
  },
  {
   "cell_type": "code",
   "execution_count": 172,
   "metadata": {},
   "outputs": [
    {
     "name": "stdout",
     "output_type": "stream",
     "text": [
      "C:\\Users\\Sadjad\\OneDrive - University of Iowa\\2. Current Research\\Reinforcement-Learning\\fixed_interval_010000.csv\n"
     ]
    },
    {
     "data": {
      "application/vnd.jupyter.widget-view+json": {
       "model_id": "b1ad4124ec3c40ae8b33d5db5f17f94b",
       "version_major": 2,
       "version_minor": 0
      },
      "text/plain": [
       "HBox(children=(IntProgress(value=0, max=1250), HTML(value='')))"
      ]
     },
     "metadata": {},
     "output_type": "display_data"
    },
    {
     "name": "stdout",
     "output_type": "stream",
     "text": [
      "\n"
     ]
    }
   ],
   "source": [
    "file_indices = {}\n",
    "list_of_files = glob.iglob(os.path.join(path, filename_syntax))\n",
    "instance_id = -1\n",
    "days = [1, 4] + [7 * (i+1) for i in range(12)]\n",
    "interval_index = 0\n",
    "for name in tqdm_notebook([list_of_files.__next__()]):\n",
    "    print(name)\n",
    "    df = pd.read_csv(name, delimiter=',', index_col=0)\n",
    "    df['day'] = np.tile(days, len(df.index)//14)\n",
    "    df_temp = []\n",
    "    for i in tqdm_notebook(range(0, len(df.index), 14)):\n",
    "        temp_INR = []\n",
    "        temp_action = []\n",
    "\n",
    "        section = df.loc[i:i+12]  # should be +13, but since the last one doesn't have INR, we temporarily used +12\n",
    "        section.reset_index(inplace=True)\n",
    "        for i, j in zip(section.day[:-1], section.day[1:]):\n",
    "            s = float(section.loc[section.day == i, 'INR'])\n",
    "            t = float(section.loc[section.day == j, 'INR'])\n",
    "            for k in range(0, j-i):\n",
    "                temp_INR.append(s + (t-s)*k/(j-i))\n",
    "            temp_action += [float(section.loc[section.day == i, 'action'])] * (j-i)\n",
    "        temp_INR.append(section.iloc[-1]['INR'])\n",
    "        temp_action.append(section.iloc[-1]['action'])\n",
    "\n",
    "        section.drop(columns=['index', 'INR', 'INR_prev', 'day', 'action', 'reward'], inplace=True)\n",
    "        df_temp.append(pd.DataFrame({'day': range(1, len(temp_INR)+1), 'INR': temp_INR, 'action': temp_action}).join(section))\n",
    "        df_temp[-1][section.columns] = df_temp[-1][section.columns].ffill()\n",
    "        df_temp[-1] = df_temp[-1][list(section.columns) + ['day', 'action', 'INR']]\n",
    "\n",
    "    new_df = pd.concat(df_temp, axis=0)\n",
    "    new_df.reset_index(inplace=True)\n",
    "    new_df.drop(columns=['index'], inplace=True)\n",
    "    new_df['sensitivity'] = new_df.apply(sensitivity, axis=1)\n",
    "    new_df.replace({'sensitivity': {1: 'normal', 2: 'sensitive', 4: 'highly sensitive'}}, inplace=True)\n",
    "\n",
    "    new_df.to_csv(f'{name[:-5]}_new.csv')\n",
    "\n",
    "    # ----------- Stats --------------\n",
    "    \n",
    "    results = {}\n",
    "    grouped_df = temp_df.groupby(['sensitivity'])\n",
    "\n",
    "    for stat in ['TTR', 'dose_change', 'delta_dose']:\n",
    "        if stat == 'TTR':\n",
    "            stat_temp = grouped_df['TTR'].mean()\n",
    "        elif stat[:4] == 'TTR>':\n",
    "            temp_df.groupby(groupby +  [] if 'instance_id' in groupby else ['instance_id'])['TTR'].mean().apply(lambda x: int(x > float(stat[4:]))).groupby(groupby).mean().rename(stat)\n",
    "        elif stat == 'dose_change':\n",
    "            stat_temp = grouped_df['dose_change'].mean().rename(stat)\n",
    "        elif stat == 'count':\n",
    "            stat_temp = grouped_df['dose_change'].count().rename(stat)\n",
    "        elif stat == 'delta_dose':\n",
    "            stat_temp = grouped_df['delta_dose'].mean().rename(stat)\n",
    "        elif stat == 'INR':\n",
    "            stat_temp = temp_df.groupby(groupby + [] if 'instance_id' in groupby else ['instance_id'])['INR_current'].mean().rename(stat)\n",
    "        elif stat == 'INR_percent_dose_change':\n",
    "            grouped_df_temp = temp_df.groupby(['INR_current'] + groupby + [] if 'instance_id' in groupby else ['instance_id'])\n",
    "            stat_temp = (grouped_df_temp['delta_dose'].sum() /\n",
    "                            (grouped_df_temp['dose_current'].sum()\n",
    "                            - grouped_df_temp['delta_dose'].sum())).rename(stat)\n",
    "\n",
    "        results[stat] = stat_temp"
   ]
  },
  {
   "cell_type": "code",
   "execution_count": null,
   "metadata": {},
   "outputs": [],
   "source": []
  }
 ],
 "metadata": {
  "kernelspec": {
   "display_name": "Python 3",
   "language": "python",
   "name": "python3"
  },
  "language_info": {
   "codemirror_mode": {
    "name": "ipython",
    "version": 3
   },
   "file_extension": ".py",
   "mimetype": "text/x-python",
   "name": "python",
   "nbconvert_exporter": "python",
   "pygments_lexer": "ipython3",
   "version": "3.6.8"
  }
 },
 "nbformat": 4,
 "nbformat_minor": 2
}
