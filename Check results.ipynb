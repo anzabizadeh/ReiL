{
 "cells": [
  {
   "cell_type": "code",
   "execution_count": 1,
   "metadata": {},
   "outputs": [
    {
     "name": "stdout",
     "output_type": "stream",
     "text": [
      "WARNING:tensorflow:From C:\\Users\\Sadjad\\Anaconda3\\lib\\site-packages\\tensorflow\\python\\ops\\resource_variable_ops.py:435: colocate_with (from tensorflow.python.framework.ops) is deprecated and will be removed in a future version.\n",
      "Instructions for updating:\n",
      "Colocations handled automatically by placer.\n",
      "WARNING:tensorflow:From C:\\Users\\Sadjad\\Anaconda3\\lib\\site-packages\\tensorflow\\python\\keras\\utils\\losses_utils.py:170: to_float (from tensorflow.python.ops.math_ops) is deprecated and will be removed in a future version.\n",
      "Instructions for updating:\n",
      "Use tf.cast instead.\n",
      "WARNING:tensorflow:From C:\\Users\\Sadjad\\Anaconda3\\lib\\site-packages\\tensorflow\\python\\ops\\math_ops.py:3066: to_int32 (from tensorflow.python.ops.math_ops) is deprecated and will be removed in a future version.\n",
      "Instructions for updating:\n",
      "Use tf.cast instead.\n"
     ]
    }
   ],
   "source": [
    "from rl.environments import Environment\n",
    "\n",
    "filename = 'WARF_00_00_XX_days90_dose_hist10_INR_hist10_T_DQN_(10, 10, 5)_lr_0.01_buff_450_batch_100_vld_0.3'\n",
    "\n",
    "env = Environment(filename=filename)\n",
    "agent = env._agent['protocol']\n",
    "subject = env._subject['W']\n"
   ]
  },
  {
   "cell_type": "code",
   "execution_count": 8,
   "metadata": {},
   "outputs": [],
   "source": [
    "temp = env.trajectory()['protocol']"
   ]
  },
  {
   "cell_type": "code",
   "execution_count": 9,
   "metadata": {},
   "outputs": [
    {
     "name": "stdout",
     "output_type": "stream",
     "text": [
      "patient: Age: 83, CYP2C9: *1/*3, VKORC1: G/G\n",
      "day\tINR\taction\treward\n",
      "0\t1.0\t  8.5\t-9.44\n",
      "1\t1.1\t 14.5\t-7.68\n",
      "2\t1.5\t 12.5\t-3.73\n",
      "3\t1.9\t 13.5\t-1.32\n",
      "4\t2.3\t  4.0\t-0.13\n",
      "5\t2.5\t 10.5\t-0.00\n",
      "6\t2.6\t  1.0\t-0.04\n",
      "7\t2.7\t 12.0\t-0.18\n",
      "8\t3.2\t  5.5\t-1.88\n",
      "9\t3.0\t  2.5\t-1.04\n",
      "10\t3.0\t  3.5\t-1.13\n",
      "11\t3.2\t 13.0\t-1.72\n",
      "12\t3.4\t  7.0\t-3.29\n",
      "13\t3.4\t  6.0\t-2.94\n",
      "14\t3.3\t  1.5\t-2.51\n",
      "15\t3.1\t 10.5\t-1.40\n",
      "16\t3.4\t  4.5\t-3.18\n",
      "17\t3.3\t  0.5\t-2.72\n",
      "18\t3.0\t  7.5\t-1.10\n",
      "19\t3.2\t  9.5\t-1.98\n",
      "20\t3.3\t 12.5\t-2.42\n",
      "21\t3.7\t 11.5\t-5.69\n",
      "22\t3.9\t 15.0\t-7.55\n",
      "23\t4.0\t 12.0\t-8.50\n",
      "24\t4.2\t 14.5\t-10.94\n",
      "25\t4.3\t  3.0\t-12.65\n",
      "26\t4.5\t  8.5\t-15.41\n",
      "27\t4.3\t 10.5\t-13.13\n",
      "28\t4.5\t  4.5\t-15.31\n",
      "29\t3.9\t  9.0\t-7.86\n",
      "30\t4.1\t 14.0\t-9.88\n",
      "31\t4.4\t  1.0\t-13.76\n",
      "32\t4.0\t  7.0\t-9.59\n",
      "33\t4.0\t 12.5\t-8.62\n",
      "34\t4.2\t 10.0\t-11.11\n",
      "35\t4.2\t  4.5\t-12.02\n",
      "36\t4.4\t  0.0\t-14.16\n",
      "37\t4.0\t 14.0\t-8.73\n",
      "38\t3.9\t 10.0\t-7.75\n",
      "39\t4.0\t 11.0\t-8.71\n",
      "40\t4.1\t  0.0\t-10.72\n",
      "41\t3.9\t  2.5\t-7.42\n",
      "42\t3.7\t 11.0\t-5.38\n",
      "43\t3.9\t 12.0\t-8.36\n",
      "44\t3.9\t 10.0\t-8.08\n",
      "45\t4.0\t  7.0\t-9.23\n",
      "46\t4.2\t 14.0\t-11.85\n",
      "47\t4.3\t 12.0\t-12.59\n",
      "48\t4.5\t  5.5\t-15.32\n",
      "49\t4.2\t  2.5\t-11.67\n",
      "50\t3.9\t  8.5\t-8.18\n",
      "51\t4.1\t  2.0\t-9.68\n",
      "52\t3.8\t 10.0\t-7.12\n",
      "53\t3.6\t 11.0\t-4.68\n",
      "54\t4.2\t  2.5\t-11.60\n",
      "55\t3.7\t 13.0\t-6.24\n",
      "56\t4.1\t  6.0\t-10.09\n",
      "57\t4.0\t 13.5\t-8.82\n",
      "58\t4.0\t 13.5\t-9.09\n",
      "59\t4.3\t 11.0\t-12.90\n",
      "60\t4.3\t 15.0\t-12.70\n",
      "61\t4.6\t 14.0\t-16.92\n",
      "62\t4.8\t 14.0\t-20.37\n",
      "63\t4.9\t  9.5\t-23.72\n",
      "64\t4.8\t  2.0\t-20.27\n",
      "65\t4.5\t 11.0\t-16.16\n",
      "66\t4.5\t  9.0\t-16.02\n",
      "67\t4.3\t  2.5\t-13.42\n",
      "68\t4.6\t  0.5\t-17.08\n",
      "69\t3.8\t 13.5\t-6.88\n",
      "70\t4.3\t  1.0\t-12.46\n",
      "71\t3.8\t 11.0\t-6.35\n",
      "72\t4.2\t  9.5\t-11.26\n",
      "73\t4.1\t  9.0\t-9.78\n",
      "74\t4.3\t  2.5\t-12.88\n",
      "75\t3.9\t  7.0\t-8.08\n",
      "76\t4.1\t  1.0\t-10.36\n",
      "77\t3.5\t  1.0\t-3.75\n",
      "78\t3.5\t 11.5\t-3.75\n",
      "79\t3.8\t 11.5\t-7.03\n",
      "80\t3.9\t  4.0\t-7.95\n",
      "81\t3.6\t  4.5\t-4.44\n",
      "82\t3.7\t  9.5\t-5.65\n",
      "83\t3.8\t  1.0\t-6.45\n",
      "84\t3.4\t 12.5\t-3.00\n",
      "85\t3.7\t  5.0\t-5.38\n",
      "86\t3.9\t  7.0\t-7.80\n",
      "87\t3.4\t 12.5\t-3.46\n",
      "88\t3.8\t 14.5\t-7.09\n",
      "89\t4.3\t 11.0\t-12.35\n"
     ]
    }
   ],
   "source": [
    "print('patient: Age: {}, CYP2C9: {}, VKORC1: {}'.format(\n",
    "      temp.state[0].value['Age'],\n",
    "      temp.state[0].value['CYP2C9'],\n",
    "      temp.state[0].value['VKORC1'])\n",
    "     )\n",
    "print('day\\tINR\\taction\\treward')\n",
    "for t in temp.iterrows():\n",
    "    print('{}\\t{:3.1f}\\t{:5.1f}\\t{:3.2f}'.format(t[0],\n",
    "                                              t[1].state.value['INRs'][-1],\n",
    "                                              t[1].action.value['value'],\n",
    "                                              t[1].reward))"
   ]
  },
  {
   "cell_type": "code",
   "execution_count": 7,
   "metadata": {},
   "outputs": [
    {
     "name": "stderr",
     "output_type": "stream",
     "text": [
      "C:\\Users\\Sadjad\\OneDrive - University of Iowa\\2. Current Research\\Reinforcement-Learning\\rl\\subjects\\warfarin_model_v3.py:336: RuntimeWarning: invalid value encountered in power\n",
      "  range(int(max(days)*self._dose_interval)+1))], axis=0), np.array(self._gamma)))\n"
     ]
    },
    {
     "name": "stdout",
     "output_type": "stream",
     "text": [
      "TTR\n",
      "patient\t\t\tcount\tmin\taverage\tmax\n",
      "(78, '*1/*3', 'A/A')\t  1\t1.11%\t1.11%\t1.11%\n",
      "(70, '*2/*2', 'G/A')\t  1\t4.44%\t4.44%\t4.44%\n",
      "(80, '*1/*2', 'G/G')\t  1\t46.67%\t46.67%\t46.67%\n",
      "(83, '*2/*2', 'A/A')\t  1\t2.22%\t2.22%\t2.22%\n",
      "(81, '*3/*3', 'G/G')\t  1\t3.33%\t3.33%\t3.33%\n",
      "(83, '*2/*3', 'A/A')\t  1\t3.33%\t3.33%\t3.33%\n",
      "(72, '*3/*3', 'A/A')\t  1\t1.11%\t1.11%\t1.11%\n",
      "(81, '*3/*3', 'G/A')\t  1\t3.33%\t3.33%\t3.33%\n",
      "(82, '*1/*2', 'G/A')\t  1\t13.33%\t13.33%\t13.33%\n",
      "(70, '*2/*3', 'G/A')\t  1\t5.56%\t5.56%\t5.56%\n",
      "actions\n",
      "patient\t\t\tcount\tmin\taverage\tmax\n",
      "(78, '*1/*3', 'A/A')\t  1\t7.9\t7.9\t7.9\n",
      "(70, '*2/*2', 'G/A')\t  1\t7.5\t7.5\t7.5\n",
      "(80, '*1/*2', 'G/G')\t  1\t7.9\t7.9\t7.9\n",
      "(83, '*2/*2', 'A/A')\t  1\t7.5\t7.5\t7.5\n",
      "(81, '*3/*3', 'G/G')\t  1\t7.6\t7.6\t7.6\n",
      "(83, '*2/*3', 'A/A')\t  1\t7.6\t7.6\t7.6\n",
      "(72, '*3/*3', 'A/A')\t  1\t7.6\t7.6\t7.6\n",
      "(81, '*3/*3', 'G/A')\t  1\t7.7\t7.7\t7.7\n",
      "(82, '*1/*2', 'G/A')\t  1\t6.5\t6.5\t6.5\n",
      "(70, '*2/*3', 'G/A')\t  1\t6.7\t6.7\t6.7\n"
     ]
    }
   ],
   "source": [
    "TTRs = {}\n",
    "actions = {}\n",
    "for _ in range(10):\n",
    "    temp = env.trajectory()['protocol']\n",
    "    try:\n",
    "        TTR = sum(1 if 2.0<=t[1].state.value['INRs'][-1]<=3.0 else 0 for t in temp.iterrows()) / len(temp)\n",
    "        ave_action = sum(t[1].action.value['value'] for t in temp.iterrows()) / len(temp)\n",
    "        TTRs[(temp.state[0].value['Age'],\n",
    "                 temp.state[0].value['CYP2C9'],\n",
    "                 temp.state[0].value['VKORC1'])].append(TTR)\n",
    "        actions[(temp.state[0].value['Age'],\n",
    "                temp.state[0].value['CYP2C9'],\n",
    "                temp.state[0].value['VKORC1'])].append(ave_action)\n",
    "    except KeyError:\n",
    "        TTRs[(temp.state[0].value['Age'],\n",
    "                 temp.state[0].value['CYP2C9'],\n",
    "                 temp.state[0].value['VKORC1'])] = [TTR]\n",
    "        actions[(temp.state[0].value['Age'],\n",
    "                 temp.state[0].value['CYP2C9'],\n",
    "                 temp.state[0].value['VKORC1'])] = [ave_action]\n",
    "\n",
    "print('TTR\\npatient\\t\\t\\tcount\\tmin\\taverage\\tmax')\n",
    "for patient, r in TTRs.items():\n",
    "    print('{}\\t{:3}\\t{:2.2%}\\t{:2.2%}\\t{:2.2%}'.format(patient, len(r), min(r), sum(r)/len(r), max(r)))\n",
    "\n",
    "print('actions\\npatient\\t\\t\\tcount\\tmin\\taverage\\tmax')\n",
    "for patient, r in actions.items():\n",
    "    print('{}\\t{:3}\\t{:3.2}\\t{:3.2}\\t{:3.2}'.format(patient, len(r), min(r), sum(r)/len(r), max(r)))"
   ]
  },
  {
   "cell_type": "code",
   "execution_count": 17,
   "metadata": {},
   "outputs": [
    {
     "ename": "NameError",
     "evalue": "name 'results' is not defined",
     "output_type": "error",
     "traceback": [
      "\u001b[1;31m---------------------------------------------------------------------------\u001b[0m",
      "\u001b[1;31mNameError\u001b[0m                                 Traceback (most recent call last)",
      "\u001b[1;32m<ipython-input-17-3ae766670982>\u001b[0m in \u001b[0;36m<module>\u001b[1;34m\u001b[0m\n\u001b[0;32m      2\u001b[0m \u001b[1;33m\u001b[0m\u001b[0m\n\u001b[0;32m      3\u001b[0m \u001b[0mj_results\u001b[0m \u001b[1;33m=\u001b[0m \u001b[1;33m{\u001b[0m\u001b[1;33m}\u001b[0m\u001b[1;33m\u001b[0m\u001b[1;33m\u001b[0m\u001b[0m\n\u001b[1;32m----> 4\u001b[1;33m \u001b[1;32mfor\u001b[0m \u001b[0mp\u001b[0m\u001b[1;33m,\u001b[0m \u001b[0mv\u001b[0m \u001b[1;32min\u001b[0m \u001b[0mresults\u001b[0m\u001b[1;33m.\u001b[0m\u001b[0mitems\u001b[0m\u001b[1;33m(\u001b[0m\u001b[1;33m)\u001b[0m\u001b[1;33m:\u001b[0m\u001b[1;33m\u001b[0m\u001b[1;33m\u001b[0m\u001b[0m\n\u001b[0m\u001b[0;32m      5\u001b[0m     \u001b[0mj_results\u001b[0m\u001b[1;33m[\u001b[0m\u001b[1;34m', '\u001b[0m\u001b[1;33m.\u001b[0m\u001b[0mjoin\u001b[0m\u001b[1;33m(\u001b[0m\u001b[1;33m(\u001b[0m\u001b[0mp\u001b[0m\u001b[1;33m[\u001b[0m\u001b[1;36m2\u001b[0m\u001b[1;33m]\u001b[0m\u001b[1;33m,\u001b[0m \u001b[0mp\u001b[0m\u001b[1;33m[\u001b[0m\u001b[1;36m1\u001b[0m\u001b[1;33m]\u001b[0m\u001b[1;33m,\u001b[0m \u001b[0mstr\u001b[0m\u001b[1;33m(\u001b[0m\u001b[0mp\u001b[0m\u001b[1;33m[\u001b[0m\u001b[1;36m0\u001b[0m\u001b[1;33m]\u001b[0m\u001b[1;33m)\u001b[0m\u001b[1;33m)\u001b[0m\u001b[1;33m)\u001b[0m\u001b[1;33m]\u001b[0m \u001b[1;33m=\u001b[0m \u001b[0mv\u001b[0m\u001b[1;33m\u001b[0m\u001b[1;33m\u001b[0m\u001b[0m\n\u001b[0;32m      6\u001b[0m \u001b[1;33m\u001b[0m\u001b[0m\n",
      "\u001b[1;31mNameError\u001b[0m: name 'results' is not defined"
     ]
    }
   ],
   "source": [
    "import json\n",
    "\n",
    "j_results = {}\n",
    "for p, v in results.items():\n",
    "    j_results[', '.join((p[2], p[1], str(p[0])))] = v\n",
    "\n",
    "with open(\"10000patients.json\", \"w\") as write_file:\n",
    "    json.dump(j_results, write_file)\n",
    "    "
   ]
  },
  {
   "cell_type": "code",
   "execution_count": null,
   "metadata": {},
   "outputs": [],
   "source": [
    "all_records = []\n",
    "for p, value in results.items():\n",
    "    all_records.extend(list((p, v) for v in value))\n",
    "    \n",
    "for r in all_records:\n",
    "    print(r[0], r[1])"
   ]
  },
  {
   "cell_type": "code",
   "execution_count": null,
   "metadata": {},
   "outputs": [],
   "source": [
    "import csv\n",
    "csv.writer()"
   ]
  },
  {
   "cell_type": "code",
   "execution_count": null,
   "metadata": {},
   "outputs": [],
   "source": [
    "for patient in sorted(results, key=lambda s: s[2]+s[1]+str(s[0])):\n",
    "    print('\\t'.join((patient[2], patient[1], str(patient[0]),\n",
    "                     '{: 3}'.format(len(results[patient])),\n",
    "                     '{:3.2}'.format(min(results[patient])),\n",
    "                     '{:3.2}'.format(sum(results[patient])/len(results[patient])),\n",
    "                     '{:3.2}'.format(max(results[patient])))))"
   ]
  }
 ],
 "metadata": {
  "kernelspec": {
   "display_name": "Python 3",
   "language": "python",
   "name": "python3"
  },
  "language_info": {
   "codemirror_mode": {
    "name": "ipython",
    "version": 3
   },
   "file_extension": ".py",
   "mimetype": "text/x-python",
   "name": "python",
   "nbconvert_exporter": "python",
   "pygments_lexer": "ipython3",
   "version": "3.6.7"
  }
 },
 "nbformat": 4,
 "nbformat_minor": 2
}
