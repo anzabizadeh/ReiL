{
 "cells": [
  {
   "cell_type": "code",
   "execution_count": 1,
   "metadata": {},
   "outputs": [
    {
     "name": "stdout",
     "output_type": "stream",
     "text": [
      "WARNING:tensorflow:From C:\\Users\\Sadjad\\Anaconda3\\lib\\site-packages\\tensorflow\\python\\ops\\resource_variable_ops.py:435: colocate_with (from tensorflow.python.framework.ops) is deprecated and will be removed in a future version.\n",
      "Instructions for updating:\n",
      "Colocations handled automatically by placer.\n",
      "WARNING:tensorflow:From C:\\Users\\Sadjad\\Anaconda3\\lib\\site-packages\\tensorflow\\python\\keras\\utils\\losses_utils.py:170: to_float (from tensorflow.python.ops.math_ops) is deprecated and will be removed in a future version.\n",
      "Instructions for updating:\n",
      "Use tf.cast instead.\n",
      "WARNING:tensorflow:From C:\\Users\\Sadjad\\Anaconda3\\lib\\site-packages\\tensorflow\\python\\ops\\math_ops.py:3066: to_int32 (from tensorflow.python.ops.math_ops) is deprecated and will be removed in a future version.\n",
      "Instructions for updating:\n",
      "Use tf.cast instead.\n"
     ]
    }
   ],
   "source": [
    "from rl.environments import Environment\n",
    "\n",
    "filename = 'WARF_70_13_AA_d_10_dose_9_INR_9_T_DQN_(10,10)_g_0.95_e_func_lr_0.01_buff_100_clr_F_btch_50_vld_0.3'\n",
    "\n",
    "env = Environment(filename=filename)\n",
    "agent = env._agent['protocol']\n",
    "subject = env._subject['W']\n"
   ]
  },
  {
   "cell_type": "code",
   "execution_count": 6,
   "metadata": {},
   "outputs": [],
   "source": [
    "temp = env.trajectory()['protocol']"
   ]
  },
  {
   "cell_type": "code",
   "execution_count": 7,
   "metadata": {},
   "outputs": [
    {
     "name": "stdout",
     "output_type": "stream",
     "text": [
      "patient: Age: 70, CYP2C9: *1/*3, VKORC1: A/A\n",
      "day\tINR\taction\treward\n",
      "0\t1.0\t 15.0\t-9.04\n",
      "1\t1.3\t 15.0\t-5.67\n",
      "2\t1.6\t 12.0\t-3.34\n",
      "3\t1.9\t  4.5\t-1.39\n",
      "4\t1.9\t  9.0\t-1.27\n",
      "5\t2.3\t  0.0\t-0.14\n",
      "6\t2.3\t  7.0\t-0.14\n",
      "7\t2.6\t  9.0\t-0.06\n",
      "8\t2.7\t  1.5\t-0.14\n",
      "9\t2.8\t 15.0\t-0.28\n"
     ]
    }
   ],
   "source": [
    "print('patient: Age: {}, CYP2C9: {}, VKORC1: {}'.format(\n",
    "      temp.state[0].value['Age'],\n",
    "      temp.state[0].value['CYP2C9'],\n",
    "      temp.state[0].value['VKORC1'])\n",
    "     )\n",
    "print('day\\tINR\\taction\\treward')\n",
    "for t in temp.iterrows():\n",
    "    print('{}\\t{:3.1f}\\t{:5.1f}\\t{:3.2f}'.format(t[0],\n",
    "                                              t[1].state.value['INRs'][-1],\n",
    "                                              t[1].action.value['value'],\n",
    "                                              t[1].reward))"
   ]
  },
  {
   "cell_type": "code",
   "execution_count": 5,
   "metadata": {},
   "outputs": [
    {
     "name": "stderr",
     "output_type": "stream",
     "text": [
      "C:\\Users\\Sadjad\\OneDrive - University of Iowa\\2. Current Research\\Reinforcement-Learning\\rl\\subjects\\warfarin_model_v3.py:336: RuntimeWarning: invalid value encountered in power\n",
      "  range(int(max(days)*self._dose_interval)+1))], axis=0), np.array(self._gamma)))\n"
     ]
    },
    {
     "name": "stdout",
     "output_type": "stream",
     "text": [
      "TTR\n",
      "patient\t\t\tcount\tmin\taverage\tmax\n",
      "(70, '*1/*3', 'A/A')\t100\t0.00%\t42.40%\t80.00%\n",
      "actions\n",
      "patient\t\t\tcount\tmin\taverage\tmax\n",
      "(70, '*1/*3', 'A/A')\t100\t8.5\t8.9\t9.4\n"
     ]
    }
   ],
   "source": [
    "TTRs = {}\n",
    "actions = {}\n",
    "for _ in range(100):\n",
    "    temp = env.trajectory()['protocol']\n",
    "    try:\n",
    "        TTR = sum(1 if 2.0<=t[1].state.value['INRs'][-1]<=3.0 else 0 for t in temp.iterrows()) / len(temp)\n",
    "        ave_action = sum(t[1].action.value['value'] for t in temp.iterrows()) / len(temp)\n",
    "        TTRs[(temp.state[0].value['Age'],\n",
    "                 temp.state[0].value['CYP2C9'],\n",
    "                 temp.state[0].value['VKORC1'])].append(TTR)\n",
    "        actions[(temp.state[0].value['Age'],\n",
    "                temp.state[0].value['CYP2C9'],\n",
    "                temp.state[0].value['VKORC1'])].append(ave_action)\n",
    "    except KeyError:\n",
    "        TTRs[(temp.state[0].value['Age'],\n",
    "                 temp.state[0].value['CYP2C9'],\n",
    "                 temp.state[0].value['VKORC1'])] = [TTR]\n",
    "        actions[(temp.state[0].value['Age'],\n",
    "                 temp.state[0].value['CYP2C9'],\n",
    "                 temp.state[0].value['VKORC1'])] = [ave_action]\n",
    "\n",
    "print('TTR\\npatient\\t\\t\\tcount\\tmin\\taverage\\tmax')\n",
    "for patient, r in TTRs.items():\n",
    "    print('{}\\t{:3}\\t{:2.2%}\\t{:2.2%}\\t{:2.2%}'.format(patient, len(r), min(r), sum(r)/len(r), max(r)))\n",
    "\n",
    "print('actions\\npatient\\t\\t\\tcount\\tmin\\taverage\\tmax')\n",
    "for patient, r in actions.items():\n",
    "    print('{}\\t{:3}\\t{:3.2}\\t{:3.2}\\t{:3.2}'.format(patient, len(r), min(r), sum(r)/len(r), max(r)))"
   ]
  },
  {
   "cell_type": "code",
   "execution_count": 17,
   "metadata": {},
   "outputs": [
    {
     "ename": "NameError",
     "evalue": "name 'results' is not defined",
     "output_type": "error",
     "traceback": [
      "\u001b[1;31m---------------------------------------------------------------------------\u001b[0m",
      "\u001b[1;31mNameError\u001b[0m                                 Traceback (most recent call last)",
      "\u001b[1;32m<ipython-input-17-3ae766670982>\u001b[0m in \u001b[0;36m<module>\u001b[1;34m\u001b[0m\n\u001b[0;32m      2\u001b[0m \u001b[1;33m\u001b[0m\u001b[0m\n\u001b[0;32m      3\u001b[0m \u001b[0mj_results\u001b[0m \u001b[1;33m=\u001b[0m \u001b[1;33m{\u001b[0m\u001b[1;33m}\u001b[0m\u001b[1;33m\u001b[0m\u001b[1;33m\u001b[0m\u001b[0m\n\u001b[1;32m----> 4\u001b[1;33m \u001b[1;32mfor\u001b[0m \u001b[0mp\u001b[0m\u001b[1;33m,\u001b[0m \u001b[0mv\u001b[0m \u001b[1;32min\u001b[0m \u001b[0mresults\u001b[0m\u001b[1;33m.\u001b[0m\u001b[0mitems\u001b[0m\u001b[1;33m(\u001b[0m\u001b[1;33m)\u001b[0m\u001b[1;33m:\u001b[0m\u001b[1;33m\u001b[0m\u001b[1;33m\u001b[0m\u001b[0m\n\u001b[0m\u001b[0;32m      5\u001b[0m     \u001b[0mj_results\u001b[0m\u001b[1;33m[\u001b[0m\u001b[1;34m', '\u001b[0m\u001b[1;33m.\u001b[0m\u001b[0mjoin\u001b[0m\u001b[1;33m(\u001b[0m\u001b[1;33m(\u001b[0m\u001b[0mp\u001b[0m\u001b[1;33m[\u001b[0m\u001b[1;36m2\u001b[0m\u001b[1;33m]\u001b[0m\u001b[1;33m,\u001b[0m \u001b[0mp\u001b[0m\u001b[1;33m[\u001b[0m\u001b[1;36m1\u001b[0m\u001b[1;33m]\u001b[0m\u001b[1;33m,\u001b[0m \u001b[0mstr\u001b[0m\u001b[1;33m(\u001b[0m\u001b[0mp\u001b[0m\u001b[1;33m[\u001b[0m\u001b[1;36m0\u001b[0m\u001b[1;33m]\u001b[0m\u001b[1;33m)\u001b[0m\u001b[1;33m)\u001b[0m\u001b[1;33m)\u001b[0m\u001b[1;33m]\u001b[0m \u001b[1;33m=\u001b[0m \u001b[0mv\u001b[0m\u001b[1;33m\u001b[0m\u001b[1;33m\u001b[0m\u001b[0m\n\u001b[0;32m      6\u001b[0m \u001b[1;33m\u001b[0m\u001b[0m\n",
      "\u001b[1;31mNameError\u001b[0m: name 'results' is not defined"
     ]
    }
   ],
   "source": [
    "import json\n",
    "\n",
    "j_results = {}\n",
    "for p, v in results.items():\n",
    "    j_results[', '.join((p[2], p[1], str(p[0])))] = v\n",
    "\n",
    "with open(\"10000patients.json\", \"w\") as write_file:\n",
    "    json.dump(j_results, write_file)\n",
    "    "
   ]
  },
  {
   "cell_type": "code",
   "execution_count": null,
   "metadata": {},
   "outputs": [],
   "source": [
    "all_records = []\n",
    "for p, value in results.items():\n",
    "    all_records.extend(list((p, v) for v in value))\n",
    "    \n",
    "for r in all_records:\n",
    "    print(r[0], r[1])"
   ]
  },
  {
   "cell_type": "code",
   "execution_count": null,
   "metadata": {},
   "outputs": [],
   "source": [
    "import csv\n",
    "csv.writer()"
   ]
  },
  {
   "cell_type": "code",
   "execution_count": null,
   "metadata": {},
   "outputs": [],
   "source": [
    "for patient in sorted(results, key=lambda s: s[2]+s[1]+str(s[0])):\n",
    "    print('\\t'.join((patient[2], patient[1], str(patient[0]),\n",
    "                     '{: 3}'.format(len(results[patient])),\n",
    "                     '{:3.2}'.format(min(results[patient])),\n",
    "                     '{:3.2}'.format(sum(results[patient])/len(results[patient])),\n",
    "                     '{:3.2}'.format(max(results[patient])))))"
   ]
  }
 ],
 "metadata": {
  "kernelspec": {
   "display_name": "Python 3",
   "language": "python",
   "name": "python3"
  },
  "language_info": {
   "codemirror_mode": {
    "name": "ipython",
    "version": 3
   },
   "file_extension": ".py",
   "mimetype": "text/x-python",
   "name": "python",
   "nbconvert_exporter": "python",
   "pygments_lexer": "ipython3",
   "version": "3.6.7"
  }
 },
 "nbformat": 4,
 "nbformat_minor": 2
}
