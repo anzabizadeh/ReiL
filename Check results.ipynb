{
 "cells": [
  {
   "cell_type": "code",
   "execution_count": 1,
   "metadata": {},
   "outputs": [
    {
     "name": "stdout",
     "output_type": "stream",
     "text": [
      "WARNING:tensorflow:From C:\\Users\\Sadjad\\Anaconda3\\lib\\site-packages\\tensorflow\\python\\ops\\resource_variable_ops.py:435: colocate_with (from tensorflow.python.framework.ops) is deprecated and will be removed in a future version.\n",
      "Instructions for updating:\n",
      "Colocations handled automatically by placer.\n",
      "WARNING:tensorflow:From C:\\Users\\Sadjad\\Anaconda3\\lib\\site-packages\\tensorflow\\python\\keras\\utils\\losses_utils.py:170: to_float (from tensorflow.python.ops.math_ops) is deprecated and will be removed in a future version.\n",
      "Instructions for updating:\n",
      "Use tf.cast instead.\n",
      "WARNING:tensorflow:From C:\\Users\\Sadjad\\Anaconda3\\lib\\site-packages\\tensorflow\\python\\ops\\math_ops.py:3066: to_int32 (from tensorflow.python.ops.math_ops) is deprecated and will be removed in a future version.\n",
      "Instructions for updating:\n",
      "Use tf.cast instead.\n"
     ]
    }
   ],
   "source": [
    "from rl.environments import Environment\n",
    "\n",
    "filename = 'WARF_00_00_XX_days90_hist10_T_DQN_(10, 10)_lr_0.01_buff_180_batch_50'\n",
    "\n",
    "env = Environment(filename=filename)\n",
    "agent = env._agent['protocol']\n",
    "subject = env._subject['W']\n"
   ]
  },
  {
   "cell_type": "code",
   "execution_count": 5,
   "metadata": {},
   "outputs": [],
   "source": [
    "temp = env.trajectory()['protocol']"
   ]
  },
  {
   "cell_type": "code",
   "execution_count": 76,
   "metadata": {},
   "outputs": [
    {
     "name": "stdout",
     "output_type": "stream",
     "text": [
      "89\n"
     ]
    }
   ],
   "source": [
    "print(len\n",
    "      (temp))"
   ]
  },
  {
   "cell_type": "code",
   "execution_count": 73,
   "metadata": {},
   "outputs": [
    {
     "name": "stdout",
     "output_type": "stream",
     "text": [
      "patient: Age: 80, CYP2C9: *1/*2, VKORC1: G/A\n",
      "day\tINR\taction\treward\n",
      "0\t1.0\t 15.0\t-8.87\n",
      "1\t1.4\t 15.0\t-4.74\n",
      "2\t2.1\t 15.0\t-0.58\n",
      "3\t2.7\t 15.0\t-0.17\n",
      "4\t3.4\t 15.0\t-3.38\n",
      "5\t3.7\t 15.0\t-5.40\n",
      "6\t4.1\t 15.0\t-10.46\n",
      "7\t4.4\t 15.0\t-14.53\n",
      "8\t5.1\t 15.0\t-26.49\n",
      "9\t4.8\t 15.0\t-20.38\n",
      "10\t5.3\t 15.0\t-30.41\n",
      "11\t5.4\t 15.0\t-32.89\n",
      "12\t5.7\t 15.0\t-41.91\n",
      "13\t5.7\t 15.0\t-40.55\n",
      "14\t5.7\t 15.0\t-41.39\n",
      "15\t5.9\t 15.0\t-45.81\n",
      "16\t5.6\t 15.0\t-38.48\n",
      "17\t5.7\t 15.0\t-41.51\n",
      "18\t6.0\t 15.0\t-50.27\n",
      "19\t6.0\t 15.0\t-49.13\n",
      "20\t6.2\t 15.0\t-54.73\n",
      "21\t6.1\t 15.0\t-51.87\n",
      "22\t6.1\t 15.0\t-51.04\n",
      "23\t5.8\t 15.0\t-44.08\n",
      "24\t6.1\t 15.0\t-52.30\n",
      "25\t6.1\t 15.0\t-52.16\n",
      "26\t6.0\t 15.0\t-48.71\n",
      "27\t6.4\t 15.0\t-61.37\n",
      "28\t6.0\t 15.0\t-49.95\n",
      "29\t6.1\t 15.0\t-52.78\n",
      "30\t6.2\t 15.0\t-55.85\n",
      "31\t5.7\t 15.0\t-41.29\n",
      "32\t6.2\t 15.0\t-53.46\n",
      "33\t6.0\t 15.0\t-49.23\n",
      "34\t6.1\t 15.0\t-50.46\n",
      "35\t5.9\t 15.0\t-45.96\n",
      "36\t6.5\t 15.0\t-62.48\n",
      "37\t6.5\t 15.0\t-65.20\n",
      "38\t6.3\t 15.0\t-57.30\n",
      "39\t6.0\t 15.0\t-49.75\n",
      "40\t5.9\t 15.0\t-46.38\n",
      "41\t6.5\t 15.0\t-62.94\n",
      "42\t6.2\t 15.0\t-54.15\n",
      "43\t6.0\t 15.0\t-47.67\n",
      "44\t6.6\t 15.0\t-65.69\n",
      "45\t6.2\t 15.0\t-55.87\n",
      "46\t6.0\t 15.0\t-49.57\n",
      "47\t6.1\t 15.0\t-51.02\n",
      "48\t5.8\t 15.0\t-43.70\n",
      "49\t5.9\t 15.0\t-45.41\n",
      "50\t6.1\t 15.0\t-51.97\n",
      "51\t6.0\t 15.0\t-48.89\n",
      "52\t6.4\t 15.0\t-60.23\n",
      "53\t5.8\t 15.0\t-42.77\n",
      "54\t6.4\t 15.0\t-61.02\n",
      "55\t5.8\t 15.0\t-43.99\n",
      "56\t5.8\t 15.0\t-44.41\n",
      "57\t6.0\t 15.0\t-50.26\n",
      "58\t6.4\t 15.0\t-61.64\n",
      "59\t6.0\t 15.0\t-50.29\n",
      "60\t6.0\t 15.0\t-47.63\n",
      "61\t6.2\t 15.0\t-54.09\n",
      "62\t5.9\t 15.0\t-45.59\n",
      "63\t6.1\t 15.0\t-51.18\n",
      "64\t6.2\t 15.0\t-55.88\n",
      "65\t6.1\t 15.0\t-51.05\n",
      "66\t6.1\t 15.0\t-52.35\n",
      "67\t6.2\t 15.0\t-54.81\n",
      "68\t6.1\t 15.0\t-52.53\n",
      "69\t6.0\t 15.0\t-48.46\n",
      "70\t6.3\t 15.0\t-57.31\n",
      "71\t6.2\t 15.0\t-54.66\n",
      "72\t6.0\t 15.0\t-50.17\n",
      "73\t6.0\t 15.0\t-49.53\n",
      "74\t6.3\t 15.0\t-57.33\n",
      "75\t6.2\t 15.0\t-53.44\n",
      "76\t6.2\t 15.0\t-54.00\n",
      "77\t6.2\t 15.0\t-54.51\n",
      "78\t6.0\t 15.0\t-48.95\n",
      "79\t6.3\t 15.0\t-58.03\n",
      "80\t6.2\t 15.0\t-54.53\n",
      "81\t6.3\t 15.0\t-56.43\n",
      "82\t6.4\t 15.0\t-61.13\n",
      "83\t6.1\t 15.0\t-52.55\n",
      "84\t6.2\t 15.0\t-55.19\n",
      "85\t6.1\t 15.0\t-51.53\n",
      "86\t6.4\t 15.0\t-60.24\n",
      "87\t6.3\t 15.0\t-59.28\n",
      "88\t6.3\t 15.0\t-57.41\n"
     ]
    }
   ],
   "source": [
    "print('patient: Age: {}, CYP2C9: {}, VKORC1: {}'.format(\n",
    "      temp.state[0].value['Age'],\n",
    "      temp.state[0].value['CYP2C9'],\n",
    "      temp.state[0].value['VKORC1'])\n",
    "     )\n",
    "print('day\\tINR\\taction\\treward')\n",
    "for t in temp.iterrows():\n",
    "    print('{}\\t{:3.1f}\\t{:5.1f}\\t{:3.2f}'.format(t[0],\n",
    "                                              t[1].state.value['INRs'][-1],\n",
    "                                              t[1].action.value['value'],\n",
    "                                              t[1].reward))"
   ]
  },
  {
   "cell_type": "code",
   "execution_count": 81,
   "metadata": {},
   "outputs": [
    {
     "name": "stdout",
     "output_type": "stream",
     "text": [
      "TTR\n",
      "patient\t\t\tcount\tmin\taverage\tmax\n",
      "(81, '*1/*2', 'G/A')\t  1\t2.25%\t2.25%\t2.25%\n",
      "actions\n",
      "patient\t\t\tcount\tmin\taverage\tmax\n",
      "(81, '*1/*2', 'G/A')\t  1\t1.5e+01\t1.5e+01\t1.5e+01\n"
     ]
    }
   ],
   "source": [
    "TTRs = {}\n",
    "actions = {}\n",
    "for _ in range(1):\n",
    "    temp = env.trajectory()['protocol']\n",
    "    try:\n",
    "        TTR = sum(1 if 2.0<=t[1].state.value['INRs'][-1]<=3.0 else 0 for t in temp.iterrows()) / len(temp)\n",
    "        ave_action = sum(t[1].action.value['value'] for t in temp.iterrows()) / len(temp)\n",
    "        TTRs[(temp.state[0].value['Age'],\n",
    "                 temp.state[0].value['CYP2C9'],\n",
    "                 temp.state[0].value['VKORC1'])].append(TTR)\n",
    "        actions[(temp.state[0].value['Age'],\n",
    "                temp.state[0].value['CYP2C9'],\n",
    "                temp.state[0].value['VKORC1'])].append(ave_action)\n",
    "    except KeyError:\n",
    "        TTRs[(temp.state[0].value['Age'],\n",
    "                 temp.state[0].value['CYP2C9'],\n",
    "                 temp.state[0].value['VKORC1'])] = [TTR]\n",
    "        actions[(temp.state[0].value['Age'],\n",
    "                 temp.state[0].value['CYP2C9'],\n",
    "                 temp.state[0].value['VKORC1'])] = [ave_action]\n",
    "\n",
    "print('TTR\\npatient\\t\\t\\tcount\\tmin\\taverage\\tmax')\n",
    "for patient, r in TTRs.items():\n",
    "    print('{}\\t{:3}\\t{:2.2%}\\t{:2.2%}\\t{:2.2%}'.format(patient, len(r), min(r), sum(r)/len(r), max(r)))\n",
    "\n",
    "print('actions\\npatient\\t\\t\\tcount\\tmin\\taverage\\tmax')\n",
    "for patient, r in actions.items():\n",
    "    print('{}\\t{:3}\\t{:3.2}\\t{:3.2}\\t{:3.2}'.format(patient, len(r), min(r), sum(r)/len(r), max(r)))"
   ]
  },
  {
   "cell_type": "code",
   "execution_count": null,
   "metadata": {},
   "outputs": [],
   "source": [
    "import json\n",
    "\n",
    "j_results = {}\n",
    "for p, v in results.items():\n",
    "    j_results[', '.join((p[2], p[1], str(p[0])))] = v\n",
    "\n",
    "with open(\"10000patients.json\", \"w\") as write_file:\n",
    "    json.dump(j_results, write_file)\n",
    "    "
   ]
  },
  {
   "cell_type": "code",
   "execution_count": null,
   "metadata": {},
   "outputs": [],
   "source": [
    "all_records = []\n",
    "for p, value in results.items():\n",
    "    all_records.extend(list((p, v) for v in value))\n",
    "    \n",
    "for r in all_records:\n",
    "    print(r[0], r[1])"
   ]
  },
  {
   "cell_type": "code",
   "execution_count": null,
   "metadata": {},
   "outputs": [],
   "source": [
    "import csv\n",
    "csv.writer()"
   ]
  },
  {
   "cell_type": "code",
   "execution_count": null,
   "metadata": {},
   "outputs": [],
   "source": [
    "for patient in sorted(results, key=lambda s: s[2]+s[1]+str(s[0])):\n",
    "    print('\\t'.join((patient[2], patient[1], str(patient[0]),\n",
    "                     '{: 3}'.format(len(results[patient])),\n",
    "                     '{:3.2}'.format(min(results[patient])),\n",
    "                     '{:3.2}'.format(sum(results[patient])/len(results[patient])),\n",
    "                     '{:3.2}'.format(max(results[patient])))))"
   ]
  }
 ],
 "metadata": {
  "kernelspec": {
   "display_name": "Python 3",
   "language": "python",
   "name": "python3"
  },
  "language_info": {
   "codemirror_mode": {
    "name": "ipython",
    "version": 3
   },
   "file_extension": ".py",
   "mimetype": "text/x-python",
   "name": "python",
   "nbconvert_exporter": "python",
   "pygments_lexer": "ipython3",
   "version": "3.6.7"
  }
 },
 "nbformat": 4,
 "nbformat_minor": 2
}
